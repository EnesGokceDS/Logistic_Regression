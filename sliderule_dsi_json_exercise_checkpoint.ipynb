{
  "nbformat": 4,
  "nbformat_minor": 0,
  "metadata": {
    "colab": {
      "name": "sliderule_dsi_json_exercise-checkpoint.ipynb",
      "version": "0.3.2",
      "provenance": [],
      "collapsed_sections": []
    },
    "kernelspec": {
      "display_name": "Python 2",
      "language": "python",
      "name": "python2"
    }
  },
  "cells": [
    {
      "metadata": {
        "id": "PadhXLeBTqsR",
        "colab_type": "text"
      },
      "cell_type": "markdown",
      "source": [
        "# JSON examples and exercise\n",
        "****\n",
        "+ get familiar with packages for dealing with JSON\n",
        "+ study examples with JSON strings and files \n",
        "+ work on exercise to be completed and submitted \n",
        "****\n",
        "+ reference: http://pandas-docs.github.io/pandas-docs-travis/io.html#json\n",
        "+ data source: http://jsonstudio.com/resources/\n",
        "****"
      ]
    },
    {
      "metadata": {
        "id": "hjrkXQQPTqsX",
        "colab_type": "code",
        "colab": {}
      },
      "cell_type": "code",
      "source": [
        "import pandas as pd"
      ],
      "execution_count": 0,
      "outputs": []
    },
    {
      "metadata": {
        "id": "AwrhGNQgTqsi",
        "colab_type": "text"
      },
      "cell_type": "markdown",
      "source": [
        "## imports for Python, Pandas"
      ]
    },
    {
      "metadata": {
        "id": "cH4-IYRxTqsl",
        "colab_type": "code",
        "colab": {}
      },
      "cell_type": "code",
      "source": [
        "import json\n",
        "from pandas.io.json import json_normalize"
      ],
      "execution_count": 0,
      "outputs": []
    },
    {
      "metadata": {
        "id": "jcko2ZNoTqst",
        "colab_type": "text"
      },
      "cell_type": "markdown",
      "source": [
        "## JSON example, with string\n",
        "\n",
        "+ demonstrates creation of normalized dataframes (tables) from nested json string\n",
        "+ source: http://pandas-docs.github.io/pandas-docs-travis/io.html#normalization"
      ]
    },
    {
      "metadata": {
        "id": "CXqk136KUQdM",
        "colab_type": "code",
        "colab": {}
      },
      "cell_type": "code",
      "source": [
        "%matplotlib inline\n",
        "import pandas as pd\n",
        "\n",
        "import subprocess as sp\n",
        "import sys,os,shutil,pickle,time\n",
        "import numpy as np\n",
        "from os.path import join\n",
        "from matplotlib import pyplot as plt\n",
        "plt.style.use('default')"
      ],
      "execution_count": 0,
      "outputs": []
    },
    {
      "metadata": {
        "id": "Ubm3mai_T-w9",
        "colab_type": "code",
        "colab": {
          "base_uri": "https://localhost:8080/",
          "height": 255
        },
        "outputId": "ed005960-c179-49f5-c5d8-aa610f868f6c"
      },
      "cell_type": "code",
      "source": [
        "# mount Google Drive\n",
        "from os.path import expanduser\n",
        "gd_path=join(expanduser(\"~\"),'gd')\n",
        "if not os.path.isdir(gd_path):\n",
        "    try:\n",
        "        # load Google Drive\n",
        "        from google.colab import drive,files\n",
        "        drive.mount('/drive')\n",
        "        sp.call('ln -s /drive/My\\ Drive '+gd_path, shell=True)\n",
        "    except:\n",
        "        print('unable to find Google Drive Folder')\n",
        "os.chdir(gd_path+'/MachineLearning')\n",
        "os.listdir('.')"
      ],
      "execution_count": 6,
      "outputs": [
        {
          "output_type": "stream",
          "text": [
            "Go to this URL in a browser: https://accounts.google.com/o/oauth2/auth?client_id=947318989803-6bn6qk8qdgf4n4g3pfee6491hc0brc4i.apps.googleusercontent.com&redirect_uri=urn%3Aietf%3Awg%3Aoauth%3A2.0%3Aoob&scope=email%20https%3A%2F%2Fwww.googleapis.com%2Fauth%2Fdocs.test%20https%3A%2F%2Fwww.googleapis.com%2Fauth%2Fdrive%20https%3A%2F%2Fwww.googleapis.com%2Fauth%2Fdrive.photos.readonly%20https%3A%2F%2Fwww.googleapis.com%2Fauth%2Fpeopleapi.readonly&response_type=code\n",
            "\n",
            "Enter your authorization code:\n",
            "··········\n",
            "Mounted at /drive\n"
          ],
          "name": "stdout"
        },
        {
          "output_type": "execute_result",
          "data": {
            "text/plain": [
              "['PIACCsubset.csv',\n",
              " 'PIACCsubset.txt',\n",
              " 'PIACCsubset.xlsx',\n",
              " 'pycon-pandas-tutorial',\n",
              " 'notebook_001.ipynb',\n",
              " 'PIACCsubset.ipynb',\n",
              " 'data_wrangling_json']"
            ]
          },
          "metadata": {
            "tags": []
          },
          "execution_count": 6
        }
      ]
    },
    {
      "metadata": {
        "id": "kucnOdJbUF-7",
        "colab_type": "code",
        "colab": {
          "base_uri": "https://localhost:8080/",
          "height": 35
        },
        "outputId": "506e1f27-5803-456e-93f2-e7e1d9768d77"
      },
      "cell_type": "code",
      "source": [
        "cd data_wrangling_json/"
      ],
      "execution_count": 7,
      "outputs": [
        {
          "output_type": "stream",
          "text": [
            "/drive/My Drive/MachineLearning/data_wrangling_json\n"
          ],
          "name": "stdout"
        }
      ]
    },
    {
      "metadata": {
        "id": "EE5CzJIkUk-1",
        "colab_type": "code",
        "colab": {
          "base_uri": "https://localhost:8080/",
          "height": 35
        },
        "outputId": "5755a343-0045-492d-a412-47f8b2371a97"
      },
      "cell_type": "code",
      "source": [
        "ls"
      ],
      "execution_count": 8,
      "outputs": [
        {
          "output_type": "stream",
          "text": [
            "\u001b[0m\u001b[01;34mdata_wrangling_json\u001b[0m/  \u001b[01;34m__MACOSX\u001b[0m/\n"
          ],
          "name": "stdout"
        }
      ]
    },
    {
      "metadata": {
        "id": "e0GjV4bYTqsw",
        "colab_type": "code",
        "colab": {}
      },
      "cell_type": "code",
      "source": [
        "# define json string\n",
        "data = [{'state': 'Florida', \n",
        "         'shortname': 'FL',\n",
        "         'info': {'governor': 'Rick Scott'},\n",
        "         'counties': [{'name': 'Dade', 'population': 12345},\n",
        "                      {'name': 'Broward', 'population': 40000},\n",
        "                      {'name': 'Palm Beach', 'population': 60000}]},\n",
        "        {'state': 'Ohio',\n",
        "         'shortname': 'OH',\n",
        "         'info': {'governor': 'John Kasich'},\n",
        "         'counties': [{'name': 'Summit', 'population': 1234},\n",
        "                      {'name': 'Cuyahoga', 'population': 1337}]}]"
      ],
      "execution_count": 0,
      "outputs": []
    },
    {
      "metadata": {
        "id": "hqfBCzWQTqs3",
        "colab_type": "code",
        "colab": {
          "base_uri": "https://localhost:8080/",
          "height": 206
        },
        "outputId": "7f1bdecf-e225-49e1-fc68-a6a4f0b7b670"
      },
      "cell_type": "code",
      "source": [
        "# use normalization to create tables from nested element\n",
        "json_normalize(data, 'counties')"
      ],
      "execution_count": 10,
      "outputs": [
        {
          "output_type": "execute_result",
          "data": {
            "text/html": [
              "<div>\n",
              "<style scoped>\n",
              "    .dataframe tbody tr th:only-of-type {\n",
              "        vertical-align: middle;\n",
              "    }\n",
              "\n",
              "    .dataframe tbody tr th {\n",
              "        vertical-align: top;\n",
              "    }\n",
              "\n",
              "    .dataframe thead th {\n",
              "        text-align: right;\n",
              "    }\n",
              "</style>\n",
              "<table border=\"1\" class=\"dataframe\">\n",
              "  <thead>\n",
              "    <tr style=\"text-align: right;\">\n",
              "      <th></th>\n",
              "      <th>name</th>\n",
              "      <th>population</th>\n",
              "    </tr>\n",
              "  </thead>\n",
              "  <tbody>\n",
              "    <tr>\n",
              "      <th>0</th>\n",
              "      <td>Dade</td>\n",
              "      <td>12345</td>\n",
              "    </tr>\n",
              "    <tr>\n",
              "      <th>1</th>\n",
              "      <td>Broward</td>\n",
              "      <td>40000</td>\n",
              "    </tr>\n",
              "    <tr>\n",
              "      <th>2</th>\n",
              "      <td>Palm Beach</td>\n",
              "      <td>60000</td>\n",
              "    </tr>\n",
              "    <tr>\n",
              "      <th>3</th>\n",
              "      <td>Summit</td>\n",
              "      <td>1234</td>\n",
              "    </tr>\n",
              "    <tr>\n",
              "      <th>4</th>\n",
              "      <td>Cuyahoga</td>\n",
              "      <td>1337</td>\n",
              "    </tr>\n",
              "  </tbody>\n",
              "</table>\n",
              "</div>"
            ],
            "text/plain": [
              "         name  population\n",
              "0        Dade       12345\n",
              "1     Broward       40000\n",
              "2  Palm Beach       60000\n",
              "3      Summit        1234\n",
              "4    Cuyahoga        1337"
            ]
          },
          "metadata": {
            "tags": []
          },
          "execution_count": 10
        }
      ]
    },
    {
      "metadata": {
        "id": "sD-zE2WcTqtA",
        "colab_type": "code",
        "colab": {},
        "outputId": "745684d6-f126-44dc-cb36-8379d6c70f4b"
      },
      "cell_type": "code",
      "source": [
        "# further populate tables created from nested element\n",
        "json_normalize(data, 'counties', ['state', 'shortname', ['info', 'governor']])"
      ],
      "execution_count": 0,
      "outputs": [
        {
          "output_type": "execute_result",
          "data": {
            "text/html": [
              "<div style=\"max-height:1000px;max-width:1500px;overflow:auto;\">\n",
              "<table border=\"1\" class=\"dataframe\">\n",
              "  <thead>\n",
              "    <tr style=\"text-align: right;\">\n",
              "      <th></th>\n",
              "      <th>name</th>\n",
              "      <th>population</th>\n",
              "      <th>info.governor</th>\n",
              "      <th>state</th>\n",
              "      <th>shortname</th>\n",
              "    </tr>\n",
              "  </thead>\n",
              "  <tbody>\n",
              "    <tr>\n",
              "      <th>0</th>\n",
              "      <td>Dade</td>\n",
              "      <td>12345</td>\n",
              "      <td>Rick Scott</td>\n",
              "      <td>Florida</td>\n",
              "      <td>FL</td>\n",
              "    </tr>\n",
              "    <tr>\n",
              "      <th>1</th>\n",
              "      <td>Broward</td>\n",
              "      <td>40000</td>\n",
              "      <td>Rick Scott</td>\n",
              "      <td>Florida</td>\n",
              "      <td>FL</td>\n",
              "    </tr>\n",
              "    <tr>\n",
              "      <th>2</th>\n",
              "      <td>Palm Beach</td>\n",
              "      <td>60000</td>\n",
              "      <td>Rick Scott</td>\n",
              "      <td>Florida</td>\n",
              "      <td>FL</td>\n",
              "    </tr>\n",
              "    <tr>\n",
              "      <th>3</th>\n",
              "      <td>Summit</td>\n",
              "      <td>1234</td>\n",
              "      <td>John Kasich</td>\n",
              "      <td>Ohio</td>\n",
              "      <td>OH</td>\n",
              "    </tr>\n",
              "    <tr>\n",
              "      <th>4</th>\n",
              "      <td>Cuyahoga</td>\n",
              "      <td>1337</td>\n",
              "      <td>John Kasich</td>\n",
              "      <td>Ohio</td>\n",
              "      <td>OH</td>\n",
              "    </tr>\n",
              "  </tbody>\n",
              "</table>\n",
              "</div>"
            ],
            "text/plain": [
              "         name  population info.governor    state shortname\n",
              "0        Dade       12345    Rick Scott  Florida        FL\n",
              "1     Broward       40000    Rick Scott  Florida        FL\n",
              "2  Palm Beach       60000    Rick Scott  Florida        FL\n",
              "3      Summit        1234   John Kasich     Ohio        OH\n",
              "4    Cuyahoga        1337   John Kasich     Ohio        OH"
            ]
          },
          "metadata": {
            "tags": []
          },
          "execution_count": 8
        }
      ]
    },
    {
      "metadata": {
        "id": "YHr_Tl2LTqtI",
        "colab_type": "text"
      },
      "cell_type": "markdown",
      "source": [
        "****\n",
        "## JSON example, with file\n",
        "\n",
        "+ demonstrates reading in a json file as a string and as a table\n",
        "+ uses small sample file containing data about projects funded by the World Bank \n",
        "+ data source: http://jsonstudio.com/resources/"
      ]
    },
    {
      "metadata": {
        "id": "WkcGhWuBTqtM",
        "colab_type": "code",
        "colab": {}
      },
      "cell_type": "code",
      "source": [
        "# load json as string\n",
        "json.load((open('data/world_bank_projects_less.json')))"
      ],
      "execution_count": 0,
      "outputs": []
    },
    {
      "metadata": {
        "id": "vhSC1LWxTqtX",
        "colab_type": "code",
        "colab": {
          "base_uri": "https://localhost:8080/",
          "height": 318
        },
        "outputId": "6ce48340-bf34-483b-cb9c-6b6c404c401d"
      },
      "cell_type": "code",
      "source": [
        "# load as Pandas dataframe\n",
        "sample_json_df = pd.read_json('data/world_bank_projects_less.json')\n",
        "sample_json_df"
      ],
      "execution_count": 15,
      "outputs": [
        {
          "output_type": "execute_result",
          "data": {
            "text/html": [
              "<div>\n",
              "<style scoped>\n",
              "    .dataframe tbody tr th:only-of-type {\n",
              "        vertical-align: middle;\n",
              "    }\n",
              "\n",
              "    .dataframe tbody tr th {\n",
              "        vertical-align: top;\n",
              "    }\n",
              "\n",
              "    .dataframe thead th {\n",
              "        text-align: right;\n",
              "    }\n",
              "</style>\n",
              "<table border=\"1\" class=\"dataframe\">\n",
              "  <thead>\n",
              "    <tr style=\"text-align: right;\">\n",
              "      <th></th>\n",
              "      <th>_id</th>\n",
              "      <th>approvalfy</th>\n",
              "      <th>board_approval_month</th>\n",
              "      <th>boardapprovaldate</th>\n",
              "      <th>borrower</th>\n",
              "      <th>closingdate</th>\n",
              "      <th>country_namecode</th>\n",
              "      <th>countrycode</th>\n",
              "      <th>countryname</th>\n",
              "      <th>countryshortname</th>\n",
              "      <th>...</th>\n",
              "      <th>sectorcode</th>\n",
              "      <th>source</th>\n",
              "      <th>status</th>\n",
              "      <th>supplementprojectflg</th>\n",
              "      <th>theme1</th>\n",
              "      <th>theme_namecode</th>\n",
              "      <th>themecode</th>\n",
              "      <th>totalamt</th>\n",
              "      <th>totalcommamt</th>\n",
              "      <th>url</th>\n",
              "    </tr>\n",
              "  </thead>\n",
              "  <tbody>\n",
              "    <tr>\n",
              "      <th>0</th>\n",
              "      <td>{u'$oid': u'52b213b38594d8a2be17c780'}</td>\n",
              "      <td>1999</td>\n",
              "      <td>November</td>\n",
              "      <td>2013-11-12T00:00:00Z</td>\n",
              "      <td>FEDERAL DEMOCRATIC REPUBLIC OF ETHIOPIA</td>\n",
              "      <td>2018-07-07T00:00:00Z</td>\n",
              "      <td>Federal Democratic Republic of Ethiopia!$!ET</td>\n",
              "      <td>ET</td>\n",
              "      <td>Federal Democratic Republic of Ethiopia</td>\n",
              "      <td>Ethiopia</td>\n",
              "      <td>...</td>\n",
              "      <td>ET,BS,ES,EP</td>\n",
              "      <td>IBRD</td>\n",
              "      <td>Active</td>\n",
              "      <td>N</td>\n",
              "      <td>{u'Percent': 100, u'Name': u'Education for all'}</td>\n",
              "      <td>[{u'code': u'65', u'name': u'Education for all'}]</td>\n",
              "      <td>65</td>\n",
              "      <td>130000000</td>\n",
              "      <td>130000000</td>\n",
              "      <td>http://www.worldbank.org/projects/P129828/ethi...</td>\n",
              "    </tr>\n",
              "    <tr>\n",
              "      <th>1</th>\n",
              "      <td>{u'$oid': u'52b213b38594d8a2be17c781'}</td>\n",
              "      <td>2015</td>\n",
              "      <td>November</td>\n",
              "      <td>2013-11-04T00:00:00Z</td>\n",
              "      <td>GOVERNMENT OF TUNISIA</td>\n",
              "      <td>NaN</td>\n",
              "      <td>Republic of Tunisia!$!TN</td>\n",
              "      <td>TN</td>\n",
              "      <td>Republic of Tunisia</td>\n",
              "      <td>Tunisia</td>\n",
              "      <td>...</td>\n",
              "      <td>BZ,BS</td>\n",
              "      <td>IBRD</td>\n",
              "      <td>Active</td>\n",
              "      <td>N</td>\n",
              "      <td>{u'Percent': 30, u'Name': u'Other economic man...</td>\n",
              "      <td>[{u'code': u'24', u'name': u'Other economic ma...</td>\n",
              "      <td>54,24</td>\n",
              "      <td>0</td>\n",
              "      <td>4700000</td>\n",
              "      <td>http://www.worldbank.org/projects/P144674?lang=en</td>\n",
              "    </tr>\n",
              "  </tbody>\n",
              "</table>\n",
              "<p>2 rows × 50 columns</p>\n",
              "</div>"
            ],
            "text/plain": [
              "                                      _id  approvalfy board_approval_month  \\\n",
              "0  {u'$oid': u'52b213b38594d8a2be17c780'}        1999             November   \n",
              "1  {u'$oid': u'52b213b38594d8a2be17c781'}        2015             November   \n",
              "\n",
              "      boardapprovaldate                                 borrower  \\\n",
              "0  2013-11-12T00:00:00Z  FEDERAL DEMOCRATIC REPUBLIC OF ETHIOPIA   \n",
              "1  2013-11-04T00:00:00Z                    GOVERNMENT OF TUNISIA   \n",
              "\n",
              "            closingdate                              country_namecode  \\\n",
              "0  2018-07-07T00:00:00Z  Federal Democratic Republic of Ethiopia!$!ET   \n",
              "1                   NaN                      Republic of Tunisia!$!TN   \n",
              "\n",
              "  countrycode                              countryname countryshortname  \\\n",
              "0          ET  Federal Democratic Republic of Ethiopia         Ethiopia   \n",
              "1          TN                      Republic of Tunisia          Tunisia   \n",
              "\n",
              "                         ...                           sectorcode source  \\\n",
              "0                        ...                          ET,BS,ES,EP   IBRD   \n",
              "1                        ...                                BZ,BS   IBRD   \n",
              "\n",
              "   status  supplementprojectflg  \\\n",
              "0  Active                     N   \n",
              "1  Active                     N   \n",
              "\n",
              "                                              theme1  \\\n",
              "0   {u'Percent': 100, u'Name': u'Education for all'}   \n",
              "1  {u'Percent': 30, u'Name': u'Other economic man...   \n",
              "\n",
              "                                      theme_namecode themecode   totalamt  \\\n",
              "0  [{u'code': u'65', u'name': u'Education for all'}]        65  130000000   \n",
              "1  [{u'code': u'24', u'name': u'Other economic ma...     54,24          0   \n",
              "\n",
              "  totalcommamt                                                url  \n",
              "0    130000000  http://www.worldbank.org/projects/P129828/ethi...  \n",
              "1      4700000  http://www.worldbank.org/projects/P144674?lang=en  \n",
              "\n",
              "[2 rows x 50 columns]"
            ]
          },
          "metadata": {
            "tags": []
          },
          "execution_count": 15
        }
      ]
    },
    {
      "metadata": {
        "id": "vq3SIkIyTqtk",
        "colab_type": "text"
      },
      "cell_type": "markdown",
      "source": [
        "****\n",
        "## JSON exercise\n",
        "\n",
        "Using data in file 'data/world_bank_projects.json' and the techniques demonstrated above,\n",
        "1. Find the 10 countries with most projects\n",
        "2. Find the top 10 major project themes (using column 'mjtheme_namecode')\n",
        "3. In 2. above you will notice that some entries have only the code and the name is missing. Create a dataframe with the missing names filled in."
      ]
    },
    {
      "metadata": {
        "id": "YGdMrz7NTqtm",
        "colab_type": "code",
        "colab": {}
      },
      "cell_type": "code",
      "source": [
        "sample_json_df.head()\n",
        "sample_json_df.info()"
      ],
      "execution_count": 0,
      "outputs": []
    },
    {
      "metadata": {
        "id": "WAMU6PlOZJVt",
        "colab_type": "code",
        "colab": {
          "base_uri": "https://localhost:8080/",
          "height": 300
        },
        "outputId": "b5896136-c631-4de8-a265-7a982fd96e6f"
      },
      "cell_type": "code",
      "source": [
        "sample_json_df.describe()\n"
      ],
      "execution_count": 34,
      "outputs": [
        {
          "output_type": "execute_result",
          "data": {
            "text/html": [
              "<div>\n",
              "<style scoped>\n",
              "    .dataframe tbody tr th:only-of-type {\n",
              "        vertical-align: middle;\n",
              "    }\n",
              "\n",
              "    .dataframe tbody tr th {\n",
              "        vertical-align: top;\n",
              "    }\n",
              "\n",
              "    .dataframe thead th {\n",
              "        text-align: right;\n",
              "    }\n",
              "</style>\n",
              "<table border=\"1\" class=\"dataframe\">\n",
              "  <thead>\n",
              "    <tr style=\"text-align: right;\">\n",
              "      <th></th>\n",
              "      <th>approvalfy</th>\n",
              "      <th>grantamt</th>\n",
              "      <th>ibrdcommamt</th>\n",
              "      <th>idacommamt</th>\n",
              "      <th>lendprojectcost</th>\n",
              "      <th>totalamt</th>\n",
              "      <th>totalcommamt</th>\n",
              "    </tr>\n",
              "  </thead>\n",
              "  <tbody>\n",
              "    <tr>\n",
              "      <th>count</th>\n",
              "      <td>500.000000</td>\n",
              "      <td>5.000000e+02</td>\n",
              "      <td>5.000000e+02</td>\n",
              "      <td>5.000000e+02</td>\n",
              "      <td>5.000000e+02</td>\n",
              "      <td>5.000000e+02</td>\n",
              "      <td>5.000000e+02</td>\n",
              "    </tr>\n",
              "    <tr>\n",
              "      <th>mean</th>\n",
              "      <td>2013.108000</td>\n",
              "      <td>4.432400e+06</td>\n",
              "      <td>3.286010e+07</td>\n",
              "      <td>3.542136e+07</td>\n",
              "      <td>1.547241e+08</td>\n",
              "      <td>6.828146e+07</td>\n",
              "      <td>7.271386e+07</td>\n",
              "    </tr>\n",
              "    <tr>\n",
              "      <th>std</th>\n",
              "      <td>0.722066</td>\n",
              "      <td>2.023307e+07</td>\n",
              "      <td>1.089197e+08</td>\n",
              "      <td>7.681431e+07</td>\n",
              "      <td>4.764211e+08</td>\n",
              "      <td>1.242662e+08</td>\n",
              "      <td>1.234705e+08</td>\n",
              "    </tr>\n",
              "    <tr>\n",
              "      <th>min</th>\n",
              "      <td>1999.000000</td>\n",
              "      <td>0.000000e+00</td>\n",
              "      <td>0.000000e+00</td>\n",
              "      <td>0.000000e+00</td>\n",
              "      <td>3.000000e+04</td>\n",
              "      <td>0.000000e+00</td>\n",
              "      <td>3.000000e+04</td>\n",
              "    </tr>\n",
              "    <tr>\n",
              "      <th>25%</th>\n",
              "      <td>2013.000000</td>\n",
              "      <td>0.000000e+00</td>\n",
              "      <td>0.000000e+00</td>\n",
              "      <td>0.000000e+00</td>\n",
              "      <td>6.472500e+06</td>\n",
              "      <td>0.000000e+00</td>\n",
              "      <td>5.000000e+06</td>\n",
              "    </tr>\n",
              "    <tr>\n",
              "      <th>50%</th>\n",
              "      <td>2013.000000</td>\n",
              "      <td>0.000000e+00</td>\n",
              "      <td>0.000000e+00</td>\n",
              "      <td>0.000000e+00</td>\n",
              "      <td>3.500000e+07</td>\n",
              "      <td>2.000000e+07</td>\n",
              "      <td>2.500000e+07</td>\n",
              "    </tr>\n",
              "    <tr>\n",
              "      <th>75%</th>\n",
              "      <td>2013.000000</td>\n",
              "      <td>1.695000e+06</td>\n",
              "      <td>0.000000e+00</td>\n",
              "      <td>3.700000e+07</td>\n",
              "      <td>1.021250e+08</td>\n",
              "      <td>8.625000e+07</td>\n",
              "      <td>9.045000e+07</td>\n",
              "    </tr>\n",
              "    <tr>\n",
              "      <th>max</th>\n",
              "      <td>2015.000000</td>\n",
              "      <td>3.650000e+08</td>\n",
              "      <td>1.307800e+09</td>\n",
              "      <td>6.000000e+08</td>\n",
              "      <td>5.170000e+09</td>\n",
              "      <td>1.307800e+09</td>\n",
              "      <td>1.307800e+09</td>\n",
              "    </tr>\n",
              "  </tbody>\n",
              "</table>\n",
              "</div>"
            ],
            "text/plain": [
              "        approvalfy      grantamt   ibrdcommamt    idacommamt  lendprojectcost  \\\n",
              "count   500.000000  5.000000e+02  5.000000e+02  5.000000e+02     5.000000e+02   \n",
              "mean   2013.108000  4.432400e+06  3.286010e+07  3.542136e+07     1.547241e+08   \n",
              "std       0.722066  2.023307e+07  1.089197e+08  7.681431e+07     4.764211e+08   \n",
              "min    1999.000000  0.000000e+00  0.000000e+00  0.000000e+00     3.000000e+04   \n",
              "25%    2013.000000  0.000000e+00  0.000000e+00  0.000000e+00     6.472500e+06   \n",
              "50%    2013.000000  0.000000e+00  0.000000e+00  0.000000e+00     3.500000e+07   \n",
              "75%    2013.000000  1.695000e+06  0.000000e+00  3.700000e+07     1.021250e+08   \n",
              "max    2015.000000  3.650000e+08  1.307800e+09  6.000000e+08     5.170000e+09   \n",
              "\n",
              "           totalamt  totalcommamt  \n",
              "count  5.000000e+02  5.000000e+02  \n",
              "mean   6.828146e+07  7.271386e+07  \n",
              "std    1.242662e+08  1.234705e+08  \n",
              "min    0.000000e+00  3.000000e+04  \n",
              "25%    0.000000e+00  5.000000e+06  \n",
              "50%    2.000000e+07  2.500000e+07  \n",
              "75%    8.625000e+07  9.045000e+07  \n",
              "max    1.307800e+09  1.307800e+09  "
            ]
          },
          "metadata": {
            "tags": []
          },
          "execution_count": 34
        }
      ]
    },
    {
      "metadata": {
        "id": "FTKJgXcOYbbR",
        "colab_type": "code",
        "colab": {
          "base_uri": "https://localhost:8080/",
          "height": 271
        },
        "outputId": "a4c69594-9906-4801-acc1-4e79353a3d10"
      },
      "cell_type": "code",
      "source": [
        "sample_json_df.columns\n"
      ],
      "execution_count": 35,
      "outputs": [
        {
          "output_type": "execute_result",
          "data": {
            "text/plain": [
              "Index([u'_id', u'approvalfy', u'board_approval_month', u'boardapprovaldate',\n",
              "       u'borrower', u'closingdate', u'country_namecode', u'countrycode',\n",
              "       u'countryname', u'countryshortname', u'docty',\n",
              "       u'envassesmentcategorycode', u'grantamt', u'ibrdcommamt', u'id',\n",
              "       u'idacommamt', u'impagency', u'lendinginstr', u'lendinginstrtype',\n",
              "       u'lendprojectcost', u'majorsector_percent', u'mjsector_namecode',\n",
              "       u'mjtheme', u'mjtheme_namecode', u'mjthemecode', u'prodline',\n",
              "       u'prodlinetext', u'productlinetype', u'project_abstract',\n",
              "       u'project_name', u'projectdocs', u'projectfinancialtype',\n",
              "       u'projectstatusdisplay', u'regionname', u'sector', u'sector1',\n",
              "       u'sector2', u'sector3', u'sector4', u'sector_namecode', u'sectorcode',\n",
              "       u'source', u'status', u'supplementprojectflg', u'theme1',\n",
              "       u'theme_namecode', u'themecode', u'totalamt', u'totalcommamt', u'url'],\n",
              "      dtype='object')"
            ]
          },
          "metadata": {
            "tags": []
          },
          "execution_count": 35
        }
      ]
    },
    {
      "metadata": {
        "id": "Wm1f3RvnbPf2",
        "colab_type": "code",
        "colab": {
          "base_uri": "https://localhost:8080/",
          "height": 35
        },
        "outputId": "270fec6f-ab06-4352-f849-b8b54d46e1de"
      },
      "cell_type": "code",
      "source": [
        "sample_json_df.shape"
      ],
      "execution_count": 36,
      "outputs": [
        {
          "output_type": "execute_result",
          "data": {
            "text/plain": [
              "(500, 50)"
            ]
          },
          "metadata": {
            "tags": []
          },
          "execution_count": 36
        }
      ]
    },
    {
      "metadata": {
        "id": "ug5wyN35ZmLs",
        "colab_type": "code",
        "colab": {}
      },
      "cell_type": "code",
      "source": [
        "#@title Find the 10 countries with most projects { display-mode: \"form\" }\n",
        "\n",
        "\n"
      ],
      "execution_count": 0,
      "outputs": []
    },
    {
      "metadata": {
        "id": "zYdG_sVQcOGl",
        "colab_type": "code",
        "colab": {
          "base_uri": "https://localhost:8080/",
          "height": 216
        },
        "outputId": "fe54d385-9716-4bef-efdd-b2e9fd5b6213"
      },
      "cell_type": "code",
      "source": [
        "sample_json_df['countryshortname'].value_counts().head(10)"
      ],
      "execution_count": 51,
      "outputs": [
        {
          "output_type": "execute_result",
          "data": {
            "text/plain": [
              "China                 19\n",
              "Indonesia             19\n",
              "Vietnam               17\n",
              "India                 16\n",
              "Yemen, Republic of    13\n",
              "Morocco               12\n",
              "Bangladesh            12\n",
              "Nepal                 12\n",
              "Africa                11\n",
              "Mozambique            11\n",
              "Name: countryshortname, dtype: int64"
            ]
          },
          "metadata": {
            "tags": []
          },
          "execution_count": 51
        }
      ]
    },
    {
      "metadata": {
        "id": "GUJFr9wskJTK",
        "colab_type": "code",
        "colab": {},
        "cellView": "both"
      },
      "cell_type": "code",
      "source": [
        "#@title  Find the top 10 major project themes (using column 'mjtheme_namecode') \n"
      ],
      "execution_count": 0,
      "outputs": []
    },
    {
      "metadata": {
        "id": "pLRxrX_Fqimm",
        "colab_type": "code",
        "colab": {
          "base_uri": "https://localhost:8080/",
          "height": 236
        },
        "outputId": "bc6c100b-de28-45ed-9de9-90151b9c5807"
      },
      "cell_type": "code",
      "source": [
        "sample_json_df['mjtheme_namecode'].value_counts().head(10)"
      ],
      "execution_count": 54,
      "outputs": [
        {
          "output_type": "execute_result",
          "data": {
            "text/plain": [
              "[{u'code': u'11', u'name': u'Environment and natural resources management'}, {u'code': u'11', u'name': u'Environment and natural resources management'}]                                                                                            12\n",
              "[{u'code': u'8', u'name': u'Human development'}, {u'code': u'11', u'name': u''}]                                                                                                                                                                    11\n",
              "[{u'code': u'8', u'name': u'Human development'}, {u'code': u'8', u'name': u'Human development'}]                                                                                                                                                     8\n",
              "[{u'code': u'4', u'name': u'Financial and private sector development'}, {u'code': u'4', u'name': u'Financial and private sector development'}]                                                                                                       6\n",
              "[{u'code': u'2', u'name': u'Public sector governance'}, {u'code': u'2', u'name': u'Public sector governance'}, {u'code': u'2', u'name': u'Public sector governance'}]                                                                                6\n",
              "[{u'code': u'8', u'name': u'Human development'}, {u'code': u'7', u'name': u'Social dev/gender/inclusion'}]                                                                                                                                           5\n",
              "[{u'code': u'8', u'name': u'Human development'}, {u'code': u'8', u'name': u'Human development'}, {u'code': u'8', u'name': u'Human development'}, {u'code': u'8', u'name': u'Human development'}, {u'code': u'8', u'name': u'Human development'}]     5\n",
              "[{u'code': u'11', u'name': u'Environment and natural resources management'}, {u'code': u'11', u'name': u''}]                                                                                                                                         5\n",
              "[{u'code': u'11', u'name': u'Environment and natural resources management'}, {u'code': u'4', u'name': u''}]                                                                                                                                          5\n",
              "[{u'code': u'4', u'name': u'Financial and private sector development'}, {u'code': u'5', u'name': u'Trade and integration'}]                                                                                                                          5\n",
              "Name: mjtheme_namecode, dtype: int64"
            ]
          },
          "metadata": {
            "tags": []
          },
          "execution_count": 54
        }
      ]
    },
    {
      "metadata": {
        "id": "xYFFYynYqi0_",
        "colab_type": "code",
        "colab": {},
        "cellView": "form"
      },
      "cell_type": "code",
      "source": [
        "#@title In 2. above you will notice that some entries have only the code and the name is missing. Create a dataframe with the missing names filled in."
      ],
      "execution_count": 0,
      "outputs": []
    },
    {
      "metadata": {
        "id": "OgT7xb2frKg8",
        "colab_type": "code",
        "colab": {
          "base_uri": "https://localhost:8080/",
          "height": 425
        },
        "outputId": "ad81ce6f-9141-4ccd-ee2a-d14f01c50925"
      },
      "cell_type": "code",
      "source": [
        "sample_json_df['mjtheme_namecode'].fillna().head(10) # Not working"
      ],
      "execution_count": 57,
      "outputs": [
        {
          "output_type": "error",
          "ename": "ValueError",
          "evalue": "ignored",
          "traceback": [
            "\u001b[0;31m\u001b[0m",
            "\u001b[0;31mValueError\u001b[0mTraceback (most recent call last)",
            "\u001b[0;32m<ipython-input-57-b4d08453d844>\u001b[0m in \u001b[0;36m<module>\u001b[0;34m()\u001b[0m\n\u001b[0;32m----> 1\u001b[0;31m \u001b[0msample_json_df\u001b[0m\u001b[0;34m[\u001b[0m\u001b[0;34m'mjtheme_namecode'\u001b[0m\u001b[0;34m]\u001b[0m\u001b[0;34m.\u001b[0m\u001b[0mfillna\u001b[0m\u001b[0;34m(\u001b[0m\u001b[0;34m)\u001b[0m\u001b[0;34m.\u001b[0m\u001b[0mhead\u001b[0m\u001b[0;34m(\u001b[0m\u001b[0;36m10\u001b[0m\u001b[0;34m)\u001b[0m\u001b[0;34m\u001b[0m\u001b[0m\n\u001b[0m",
            "\u001b[0;32m/usr/local/lib/python2.7/dist-packages/pandas/core/series.pyc\u001b[0m in \u001b[0;36mfillna\u001b[0;34m(self, value, method, axis, inplace, limit, downcast, **kwargs)\u001b[0m\n\u001b[1;32m   2687\u001b[0m                                           \u001b[0maxis\u001b[0m\u001b[0;34m=\u001b[0m\u001b[0maxis\u001b[0m\u001b[0;34m,\u001b[0m \u001b[0minplace\u001b[0m\u001b[0;34m=\u001b[0m\u001b[0minplace\u001b[0m\u001b[0;34m,\u001b[0m\u001b[0;34m\u001b[0m\u001b[0m\n\u001b[1;32m   2688\u001b[0m                                           \u001b[0mlimit\u001b[0m\u001b[0;34m=\u001b[0m\u001b[0mlimit\u001b[0m\u001b[0;34m,\u001b[0m \u001b[0mdowncast\u001b[0m\u001b[0;34m=\u001b[0m\u001b[0mdowncast\u001b[0m\u001b[0;34m,\u001b[0m\u001b[0;34m\u001b[0m\u001b[0m\n\u001b[0;32m-> 2689\u001b[0;31m                                           **kwargs)\n\u001b[0m\u001b[1;32m   2690\u001b[0m \u001b[0;34m\u001b[0m\u001b[0m\n\u001b[1;32m   2691\u001b[0m     \u001b[0;34m@\u001b[0m\u001b[0mAppender\u001b[0m\u001b[0;34m(\u001b[0m\u001b[0mgeneric\u001b[0m\u001b[0;34m.\u001b[0m\u001b[0m_shared_docs\u001b[0m\u001b[0;34m[\u001b[0m\u001b[0;34m'shift'\u001b[0m\u001b[0;34m]\u001b[0m \u001b[0;34m%\u001b[0m \u001b[0m_shared_doc_kwargs\u001b[0m\u001b[0;34m)\u001b[0m\u001b[0;34m\u001b[0m\u001b[0m\n",
            "\u001b[0;32m/usr/local/lib/python2.7/dist-packages/pandas/core/generic.pyc\u001b[0m in \u001b[0;36mfillna\u001b[0;34m(self, value, method, axis, inplace, limit, downcast)\u001b[0m\n\u001b[1;32m   4275\u001b[0m         \u001b[0;32mif\u001b[0m \u001b[0mvalue\u001b[0m \u001b[0;32mis\u001b[0m \u001b[0mNone\u001b[0m\u001b[0;34m:\u001b[0m\u001b[0;34m\u001b[0m\u001b[0m\n\u001b[1;32m   4276\u001b[0m             \u001b[0;32mif\u001b[0m \u001b[0mmethod\u001b[0m \u001b[0;32mis\u001b[0m \u001b[0mNone\u001b[0m\u001b[0;34m:\u001b[0m\u001b[0;34m\u001b[0m\u001b[0m\n\u001b[0;32m-> 4277\u001b[0;31m                 \u001b[0;32mraise\u001b[0m \u001b[0mValueError\u001b[0m\u001b[0;34m(\u001b[0m\u001b[0;34m'must specify a fill method or value'\u001b[0m\u001b[0;34m)\u001b[0m\u001b[0;34m\u001b[0m\u001b[0m\n\u001b[0m\u001b[1;32m   4278\u001b[0m             \u001b[0;32mif\u001b[0m \u001b[0mself\u001b[0m\u001b[0;34m.\u001b[0m\u001b[0m_is_mixed_type\u001b[0m \u001b[0;32mand\u001b[0m \u001b[0maxis\u001b[0m \u001b[0;34m==\u001b[0m \u001b[0;36m1\u001b[0m\u001b[0;34m:\u001b[0m\u001b[0;34m\u001b[0m\u001b[0m\n\u001b[1;32m   4279\u001b[0m                 \u001b[0;32mif\u001b[0m \u001b[0minplace\u001b[0m\u001b[0;34m:\u001b[0m\u001b[0;34m\u001b[0m\u001b[0m\n",
            "\u001b[0;31mValueError\u001b[0m: must specify a fill method or value"
          ]
        }
      ]
    }
  ]
}